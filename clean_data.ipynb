{
 "cells": [
  {
   "cell_type": "code",
   "execution_count": 1,
   "id": "67b0bc39-0727-4e52-b6ae-0b1a564c8c21",
   "metadata": {},
   "outputs": [
    {
     "name": "stdout",
     "output_type": "stream",
     "text": [
      "data haas been cleand successfully\n"
     ]
    }
   ],
   "source": [
    "import json\n",
    "def data_clean(data):\n",
    "    #remove users with missing name\n",
    "    data[\"users\"] = [user for user in data[\"users\"] if user[\"name\"].strip()]\n",
    "    \n",
    "    # remove duplicate values\n",
    "    for user in data[\"users\"]:\n",
    "        data[\"friends\"] = list(set(user[\"friends\"]))\n",
    "\n",
    "    # remove inactive pages\n",
    "    data[\"users\"] = [user for user in data[\"users\"] if user[\"friends\"] or user[\"liked_pages\"]]\n",
    "\n",
    "    #remove duplicate pages\n",
    "    unique_pages = {}\n",
    "    for page in data[\"pages\"]:\n",
    "        unique_pages[page[\"id\"]] = page\n",
    "        data[\"pages\"] = list(unique_pages.values()) \n",
    "        return data\n",
    "#load the data\n",
    "data =json.load(open(\"data2.json\"))\n",
    "data = data_clean(data)\n",
    "json.dump(data,open(\"cleaned_data2.json\",\"w\"),indent = 4)\n",
    "print(\"data haas been cleand successfully\")\n"
   ]
  },
  {
   "cell_type": "code",
   "execution_count": null,
   "id": "2fe334b6-0cc1-4d86-8bc6-dcead960f68c",
   "metadata": {},
   "outputs": [],
   "source": []
  },
  {
   "cell_type": "code",
   "execution_count": null,
   "id": "427dbd20-df89-4fa4-b23e-7e0280a7c634",
   "metadata": {},
   "outputs": [],
   "source": []
  },
  {
   "cell_type": "code",
   "execution_count": null,
   "id": "c4366f08-58cb-4da6-95eb-58e97bc32084",
   "metadata": {},
   "outputs": [],
   "source": []
  },
  {
   "cell_type": "code",
   "execution_count": null,
   "id": "dc044f0a-a3a9-4bf4-b732-61177bd4699c",
   "metadata": {},
   "outputs": [],
   "source": []
  }
 ],
 "metadata": {
  "kernelspec": {
   "display_name": "Python [conda env:base] *",
   "language": "python",
   "name": "conda-base-py"
  },
  "language_info": {
   "codemirror_mode": {
    "name": "ipython",
    "version": 3
   },
   "file_extension": ".py",
   "mimetype": "text/x-python",
   "name": "python",
   "nbconvert_exporter": "python",
   "pygments_lexer": "ipython3",
   "version": "3.13.5"
  }
 },
 "nbformat": 4,
 "nbformat_minor": 5
}
